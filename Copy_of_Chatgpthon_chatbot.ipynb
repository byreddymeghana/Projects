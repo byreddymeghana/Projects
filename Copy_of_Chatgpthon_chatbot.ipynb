{
  "cells": [
    {
      "cell_type": "code",
      "execution_count": null,
      "metadata": {
        "id": "_RdactIXXD3u"
      },
      "outputs": [],
      "source": [
        "import numpy as np\n",
        "import nltk\n",
        "import string\n",
        "import random"
      ]
    },
    {
      "cell_type": "code",
      "execution_count": null,
      "metadata": {
        "colab": {
          "base_uri": "https://localhost:8080/"
        },
        "id": "TpmTsUdHa4Q0",
        "outputId": "6876e199-55a5-4e8a-945f-bd70f2b4a6be"
      },
      "outputs": [
        {
          "output_type": "stream",
          "name": "stdout",
          "text": [
            "Drive already mounted at /content/drive; to attempt to forcibly remount, call drive.mount(\"/content/drive\", force_remount=True).\n"
          ]
        }
      ],
      "source": [
        "from google.colab import drive  # For connecting to drive\n",
        "drive.mount('/content/drive')"
      ]
    },
    {
      "cell_type": "code",
      "execution_count": null,
      "metadata": {
        "id": "uxSJ_X31bal4"
      },
      "outputs": [],
      "source": [
        "f = open('/content/drive/MyDrive/instafaq.txt','r',errors = 'ignore')\n",
        "raw_doc = f.read()"
      ]
    },
    {
      "cell_type": "code",
      "execution_count": null,
      "metadata": {
        "colab": {
          "base_uri": "https://localhost:8080/",
          "height": 123
        },
        "id": "vexuk-JpcCwS",
        "outputId": "ea8d0514-ba9a-4752-fda7-a7cc9582c34d"
      },
      "outputs": [
        {
          "output_type": "execute_result",
          "data": {
            "text/plain": [
              "'\\n To create an Instagram account, download the Instagram app from the App Store or Google Play Store. Open the app, tap \"Sign Up,\" and enter your email address or mobile number, full name, username, and password. Alternatively, you can sign up using your Facebook account.\\n On the login page, tap \"Forgot password?\" Enter your email address, username, or phone number. Follow the instructions sent to your email or phone to reset your password.\\n To delete your Instagram account, log in to Instagram on the web. Go to the \"Delete Your Account\" page. Select a reason for deleting your account from the dropdown menu and re-enter your password. Click \"Permanently delete my account.\"\\n Log in to Instagram on the web. Go to your profile and click \"Edit Profile.\" Scroll down and click \"Temporarily disable my account.\" Select a reason and re-enter your password. Click \"Temporarily Disable Account.\"\\nPrivacy and Security:\\n Go to your profile and tap the three horizontal lines in the top right corner. Tap \"Settings\" > \"Privacy\" > \"Account Privacy\" and toggle on \"Private Account.\"\\n To block someone, go to their profile, tap the three dots in the top right corner, and select \"Block.\" To unblock, visit their profile again, tap the three dots, and select \"Unblock.\"\\n To report a problem, go to your profile and tap the three horizontal lines in the top right corner. Tap \"Settings\" > \"Help\" > \"Report a Problem.\" To report abusive content, tap the three dots above the post, then tap \"Report.\"\\nSpams and Reports:\\n To report spam or inappropriate content, tap the three dots above the post, select \"Report,\" and follow the on-screen instructions to specify the reason for the report.\\n Open the conversation in Direct, tap the \"i\" icon in the top right corner, select \"Report,\" and choose the reason for reporting the message.\\nTo handle spam comments, go to the comment, swipe left (iOS) or tap and hold (Android), tap the exclamation mark, and select \"Report This Comment.\"\\n Go to the profile of the account you want to report, tap the three dots in the top right corner, select \"Report,\" and choose the reason for reporting the account.\\n Reports are reviewed by Instagram’s moderation team. If the reported content or behavior violates Instagram’s Community Guidelines, appropriate action will be taken, which may include removing the content or disabling the account.\\nFeatures and Functionality:\\nA13. Tap the \"+\" icon at the bottom of the screen. Choose a photo or video from your library or take a new one. Add a caption, location, and tags, then tap \"Share.\"\\n Tap the camera icon in the top left corner or swipe right from anywhere in the feed. Take a photo or video, or choose one from your library. Add text, stickers, or drawings, then tap \"Your Story\" to share.\\nGo to your profile and tap the \"+\" icon below your bio. Select the stories you want to include in the highlight. Choose a cover photo and name your highlight, then tap \"Add.\"\\nTroubleshooting:\\n If your feed is not refreshing, check your internet connection. Try restarting the app or your device. If the problem persists, check if Instagram is experiencing an outage.\\n If you\\'re unable to log in, ensure you\\'re using the correct username and password. Try resetting your password. If you\\'re still having trouble, check if your account has been disabled or hacked.\\n If stories are not loading, try restarting the app or your device. Ensure you have a stable internet connection. Clear the app cache or update the Instagram app.\\n Check your device\\'s notification settings to ensure notifications are enabled for Instagram. Also, check the notification settings within the Instagram app under \"Settings\" > \"Notifications.\"\\nMiscellaneous:\\n Go to your profile and tap \"Edit Profile.\" Tap the username field and enter a new username. Tap \"Done\" to save changes.\\nQ21. How do I manage multiple Instagram accounts?\\nA21. To add another account, go to your profile, tap the three horizontal lines in the top right corner, then tap \"Settings\" > \"Add Account.\" To switch between accounts, tap your username at the top of your profile and select the account you want to switch to.\\n'"
            ],
            "application/vnd.google.colaboratory.intrinsic+json": {
              "type": "string"
            }
          },
          "metadata": {},
          "execution_count": 21
        }
      ],
      "source": [
        "raw_doc"
      ]
    },
    {
      "cell_type": "code",
      "execution_count": null,
      "metadata": {
        "colab": {
          "base_uri": "https://localhost:8080/"
        },
        "id": "GGyE5aOYcOKI",
        "outputId": "af305277-6ee9-458e-958c-4f048d1bc601"
      },
      "outputs": [
        {
          "output_type": "stream",
          "name": "stderr",
          "text": [
            "[nltk_data] Downloading package punkt to /root/nltk_data...\n",
            "[nltk_data]   Package punkt is already up-to-date!\n",
            "[nltk_data] Downloading package wordnet to /root/nltk_data...\n",
            "[nltk_data]   Package wordnet is already up-to-date!\n",
            "[nltk_data] Downloading package omw-1.4 to /root/nltk_data...\n",
            "[nltk_data]   Package omw-1.4 is already up-to-date!\n"
          ]
        },
        {
          "output_type": "execute_result",
          "data": {
            "text/plain": [
              "True"
            ]
          },
          "metadata": {},
          "execution_count": 22
        }
      ],
      "source": [
        " raw_doc = raw_doc.lower()\n",
        " nltk.download('punkt')\n",
        " nltk.download('wordnet')\n",
        " nltk.download('omw-1.4')"
      ]
    },
    {
      "cell_type": "code",
      "execution_count": null,
      "metadata": {
        "colab": {
          "base_uri": "https://localhost:8080/",
          "height": 123
        },
        "id": "pJbInwYFfB4I",
        "outputId": "ba321c23-80f2-4d4a-be11-8256c35d5366"
      },
      "outputs": [
        {
          "output_type": "execute_result",
          "data": {
            "text/plain": [
              "'\\n to create an instagram account, download the instagram app from the app store or google play store. open the app, tap \"sign up,\" and enter your email address or mobile number, full name, username, and password. alternatively, you can sign up using your facebook account.\\n on the login page, tap \"forgot password?\" enter your email address, username, or phone number. follow the instructions sent to your email or phone to reset your password.\\n to delete your instagram account, log in to instagram on the web. go to the \"delete your account\" page. select a reason for deleting your account from the dropdown menu and re-enter your password. click \"permanently delete my account.\"\\n log in to instagram on the web. go to your profile and click \"edit profile.\" scroll down and click \"temporarily disable my account.\" select a reason and re-enter your password. click \"temporarily disable account.\"\\nprivacy and security:\\n go to your profile and tap the three horizontal lines in the top right corner. tap \"settings\" > \"privacy\" > \"account privacy\" and toggle on \"private account.\"\\n to block someone, go to their profile, tap the three dots in the top right corner, and select \"block.\" to unblock, visit their profile again, tap the three dots, and select \"unblock.\"\\n to report a problem, go to your profile and tap the three horizontal lines in the top right corner. tap \"settings\" > \"help\" > \"report a problem.\" to report abusive content, tap the three dots above the post, then tap \"report.\"\\nspams and reports:\\n to report spam or inappropriate content, tap the three dots above the post, select \"report,\" and follow the on-screen instructions to specify the reason for the report.\\n open the conversation in direct, tap the \"i\" icon in the top right corner, select \"report,\" and choose the reason for reporting the message.\\nto handle spam comments, go to the comment, swipe left (ios) or tap and hold (android), tap the exclamation mark, and select \"report this comment.\"\\n go to the profile of the account you want to report, tap the three dots in the top right corner, select \"report,\" and choose the reason for reporting the account.\\n reports are reviewed by instagram’s moderation team. if the reported content or behavior violates instagram’s community guidelines, appropriate action will be taken, which may include removing the content or disabling the account.\\nfeatures and functionality:\\na13. tap the \"+\" icon at the bottom of the screen. choose a photo or video from your library or take a new one. add a caption, location, and tags, then tap \"share.\"\\n tap the camera icon in the top left corner or swipe right from anywhere in the feed. take a photo or video, or choose one from your library. add text, stickers, or drawings, then tap \"your story\" to share.\\ngo to your profile and tap the \"+\" icon below your bio. select the stories you want to include in the highlight. choose a cover photo and name your highlight, then tap \"add.\"\\ntroubleshooting:\\n if your feed is not refreshing, check your internet connection. try restarting the app or your device. if the problem persists, check if instagram is experiencing an outage.\\n if you\\'re unable to log in, ensure you\\'re using the correct username and password. try resetting your password. if you\\'re still having trouble, check if your account has been disabled or hacked.\\n if stories are not loading, try restarting the app or your device. ensure you have a stable internet connection. clear the app cache or update the instagram app.\\n check your device\\'s notification settings to ensure notifications are enabled for instagram. also, check the notification settings within the instagram app under \"settings\" > \"notifications.\"\\nmiscellaneous:\\n go to your profile and tap \"edit profile.\" tap the username field and enter a new username. tap \"done\" to save changes.\\nq21. how do i manage multiple instagram accounts?\\na21. to add another account, go to your profile, tap the three horizontal lines in the top right corner, then tap \"settings\" > \"add account.\" to switch between accounts, tap your username at the top of your profile and select the account you want to switch to.\\n'"
            ],
            "application/vnd.google.colaboratory.intrinsic+json": {
              "type": "string"
            }
          },
          "metadata": {},
          "execution_count": 23
        }
      ],
      "source": [
        "raw_doc"
      ]
    },
    {
      "cell_type": "code",
      "execution_count": null,
      "metadata": {
        "id": "Rrj4SmJ4eIlV"
      },
      "outputs": [],
      "source": [
        "sentence_tokens = nltk.sent_tokenize(raw_doc)\n",
        "word_tokens = nltk.word_tokenize(raw_doc)"
      ]
    },
    {
      "cell_type": "code",
      "execution_count": null,
      "metadata": {
        "colab": {
          "base_uri": "https://localhost:8080/"
        },
        "id": "MNgnSagOelX7",
        "outputId": "a14cf138-4369-4725-f06f-7915414c1618"
      },
      "outputs": [
        {
          "output_type": "execute_result",
          "data": {
            "text/plain": [
              "['\\n to create an instagram account, download the instagram app from the app store or google play store.',\n",
              " 'open the app, tap \"sign up,\" and enter your email address or mobile number, full name, username, and password.',\n",
              " 'alternatively, you can sign up using your facebook account.',\n",
              " 'on the login page, tap \"forgot password?\"',\n",
              " 'enter your email address, username, or phone number.']"
            ]
          },
          "metadata": {},
          "execution_count": 25
        }
      ],
      "source": [
        " sentence_tokens[:5]"
      ]
    },
    {
      "cell_type": "code",
      "execution_count": null,
      "metadata": {
        "colab": {
          "base_uri": "https://localhost:8080/"
        },
        "id": "8ccZqrVBfycF",
        "outputId": "482c7d3f-38fb-4275-afb7-f9557550ae6e"
      },
      "outputs": [
        {
          "output_type": "execute_result",
          "data": {
            "text/plain": [
              "['to', 'create', 'an', 'instagram', 'account']"
            ]
          },
          "metadata": {},
          "execution_count": 26
        }
      ],
      "source": [
        "word_tokens[:5]"
      ]
    },
    {
      "cell_type": "code",
      "execution_count": null,
      "metadata": {
        "id": "vesGRDxKf_ah"
      },
      "outputs": [],
      "source": [
        "lemmer = nltk.stem.WordNetLemmatizer()\n",
        "def LemTokens(tokens):\n",
        "  return [lemmer.lemmatize(token) for token in tokens]\n",
        "remove_punc_dict = dict((ord(punct), None) for punct in string.punctuation)\n",
        "def LemNormalize(text):\n",
        "  return LemTokens(nltk.word_tokenize(text.lower().translate(remove_punc_dict)))"
      ]
    },
    {
      "cell_type": "code",
      "execution_count": null,
      "metadata": {
        "id": "2mBFfPncEhB8"
      },
      "outputs": [],
      "source": [
        "greet_inputs = ('hello','hi','whassup','how are you?','hey','Hey','HEY','HI','Hi')\n",
        "greet_responses = ('Hi!','HEY!','Hey There!','There there!!','hey!','Hey!','hey!')\n",
        "def greet(sentence):\n",
        "  for word in sentence.split():\n",
        "    if word.lower() in greet_inputs:\n",
        "      return random.choice(greet_responses)"
      ]
    },
    {
      "cell_type": "code",
      "execution_count": null,
      "metadata": {
        "id": "oK0ZuCUWGFQr"
      },
      "outputs": [],
      "source": [
        "from sklearn.feature_extraction.text import TfidfVectorizer\n",
        "from sklearn.metrics.pairwise import cosine_similarity"
      ]
    },
    {
      "cell_type": "code",
      "execution_count": null,
      "metadata": {
        "id": "mNRfo2-HHuRm"
      },
      "outputs": [],
      "source": [
        "def response(user_response):\n",
        "  robo1_response = ''\n",
        "  TfidfVec = TfidfVectorizer(tokenizer = LemNormalize, stop_words = 'english')\n",
        "  tfidf = TfidfVec.fit_transform(sentence_tokens)\n",
        "  vals = cosine_similarity(tfidf[-1], tfidf)\n",
        "  idx = vals.argsort()[0][-2]\n",
        "  flat = vals.flatten()\n",
        "  flat.sort()\n",
        "  req_tfidf = flat[-2]\n",
        "  if (req_tfidf == 0):\n",
        "    robo1_response = robo1_response + \"I am sorry.I am unable to understand you!\"\n",
        "    return robo1_response\n",
        "  else:\n",
        "    robo1_response = robo1_response + sentence_tokens[idx]\n",
        "    return robo1_response\n"
      ]
    },
    {
      "cell_type": "code",
      "execution_count": null,
      "metadata": {
        "colab": {
          "base_uri": "https://localhost:8080/"
        },
        "id": "kdSyIn9CKTqQ",
        "outputId": "148a30d0-1f48-482a-fd40-d390100ef769"
      },
      "outputs": [
        {
          "output_type": "stream",
          "name": "stdout",
          "text": [
            "Hey There! How can I help you?\n",
            "Hi\n",
            "Hi! What is your Query\n",
            "create an insta account\n",
            "Hope this helps you : \n",
            " to create an instagram account, download the instagram app from the app store or google play store.\n",
            "delete an insta account\n",
            "Hope this helps you : go to the \"delete your account\" page.\n",
            "change insta username\n",
            "Hope this helps you : tap \"done\" to save changes.\n",
            "thank you\n",
            "You are welcome....\n"
          ]
        }
      ],
      "source": [
        " flag = True\n",
        "print('Hey There! How can I help you?')\n",
        "while(flag == True):\n",
        "  user_response = input()\n",
        "  user_response = user_response.lower()\n",
        "  if(user_response != 'bye'):\n",
        "    if(user_response == 'thank you' or user_response == 'thanks'):\n",
        "      flag = False\n",
        "      print(\"You are welcome....\")\n",
        "    else:\n",
        "      if(greet(user_response) != None):\n",
        "        print(greet(user_response) + \" What is your Query\")\n",
        "      else:\n",
        "        sentence_tokens.append(user_response)\n",
        "        word_tokens = word_tokens + nltk.word_tokenize(user_response)\n",
        "        final_words = list(set(word_tokens))\n",
        "        print(\"Hope this helps you : \", end = '')\n",
        "        print(response(user_response))\n",
        "        sentence_tokens.remove(user_response)\n",
        "  else:\n",
        "    flag = False\n",
        "    print('Goodbye!')\n",
        "\n"
      ]
    }
  ],
  "metadata": {
    "colab": {
      "provenance": []
    },
    "kernelspec": {
      "display_name": "Python 3",
      "name": "python3"
    },
    "language_info": {
      "name": "python"
    }
  },
  "nbformat": 4,
  "nbformat_minor": 0
}